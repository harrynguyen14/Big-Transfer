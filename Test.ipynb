{
  "nbformat": 4,
  "nbformat_minor": 0,
  "metadata": {
    "colab": {
      "provenance": [],
      "private_outputs": true,
      "mount_file_id": "1kHuRLaJtZyV5FXokY5XCQDPzJxufhMtv",
      "authorship_tag": "ABX9TyOtS1Q03Mv6PphKYUnKI0KQ",
      "include_colab_link": true
    },
    "kernelspec": {
      "name": "python3",
      "display_name": "Python 3"
    },
    "language_info": {
      "name": "python"
    },
    "accelerator": "GPU",
    "gpuClass": "standard"
  },
  "cells": [
    {
      "cell_type": "markdown",
      "metadata": {
        "id": "view-in-github",
        "colab_type": "text"
      },
      "source": [
        "<a href=\"https://colab.research.google.com/github/harrynguyen14/Big-Transfer/blob/main/Test.ipynb\" target=\"_parent\"><img src=\"https://colab.research.google.com/assets/colab-badge.svg\" alt=\"Open In Colab\"/></a>"
      ]
    },
    {
      "cell_type": "code",
      "source": [
        "import tensorflow as tf\n",
        "import tensorflow_hub as hub\n",
        "import tensorflow_datasets as tfds\n",
        "import matplotlib.pyplot as plt\n",
        "import numpy as np\n",
        "\n",
        "import time\n",
        "\n",
        "from PIL import Image\n",
        "import requests\n",
        "from io import BytesIO\n",
        "\n",
        "import os\n",
        "import pathlib"
      ],
      "metadata": {
        "id": "BwSIKG4zDaMK"
      },
      "execution_count": null,
      "outputs": []
    },
    {
      "cell_type": "code",
      "source": [
        "#Model ResNet50 trained on ImageNet-21k\n",
        "model_url = \"https://tfhub.dev/google/bit/m-r50x1/1\"\n",
        "module = hub.KerasLayer(model_url)"
      ],
      "metadata": {
        "id": "a-Bl6JXjJQQP"
      },
      "execution_count": null,
      "outputs": []
    },
    {
      "cell_type": "code",
      "source": [
        "model_url = \"https://tfhub.dev/google/bit/m-r50x1/ilsvrc2012_classification/1\"\n",
        "imagenet_module = hub.KerasLayer(model_url)"
      ],
      "metadata": {
        "id": "RqHBabI-JOe_"
      },
      "execution_count": null,
      "outputs": []
    },
    {
      "cell_type": "code",
      "source": [
        "dataset_name = 'tf_flowers'\n",
        "ds, info = tfds.load(name=dataset_name, split=['train'], with_info=True)\n",
        "ds = ds[0]\n",
        "num_examples = info.splits['train'].num_examples\n",
        "NUM_CLASSES = 5"
      ],
      "metadata": {
        "id": "gK9YLBmYJMqJ"
      },
      "execution_count": null,
      "outputs": []
    },
    {
      "cell_type": "code",
      "source": [
        "#tf_flowers label names\n",
        "tf_flowers_labels = ['dandelion', 'daisy', 'tulips', 'sunflowers', 'roses']"
      ],
      "metadata": {
        "id": "tXrYo7GuJb35"
      },
      "execution_count": null,
      "outputs": []
    },
    {
      "cell_type": "code",
      "source": [
        "#Construct imagenet logit-to-class-name dictionary (imagenet_int_to_str)\n",
        "!wget https://storage.googleapis.com/bit_models/ilsvrc2012_wordnet_lemmas.txt\n",
        "\n",
        "imagenet_int_to_str = {}\n",
        "\n",
        "with open('ilsvrc2012_wordnet_lemmas.txt', 'r') as f:\n",
        "  for i in range(1000):\n",
        "    row = f.readline()\n",
        "    row = row.rstrip()\n",
        "    imagenet_int_to_str.update({i: row})"
      ],
      "metadata": {
        "id": "wfv8BpSoJMQd"
      },
      "execution_count": null,
      "outputs": []
    },
    {
      "cell_type": "code",
      "source": [
        "# Functions for loading image\n",
        "\n",
        "def preprocess_image(image):\n",
        "  image = np.array(image)\n",
        "  # reshape into shape [batch_size, height, width, num_channels]\n",
        "  img_reshaped = tf.reshape(image, [1, image.shape[0], image.shape[1], image.shape[2]])\n",
        "  # Use `convert_image_dtype` to convert to floats in the [0,1] range.\n",
        "  image = tf.image.convert_image_dtype(img_reshaped, tf.float32)  \n",
        "  return image\n",
        "\n",
        "def load_image_from_url(url):\n",
        "  \"\"\"Returns an image with shape [1, height, width, num_channels].\"\"\"\n",
        "  response = requests.get(url)\n",
        "  image = Image.open(BytesIO(response.content))\n",
        "  image = preprocess_image(image)\n",
        "  return image"
      ],
      "metadata": {
        "id": "WISgAIt2JG9_"
      },
      "execution_count": null,
      "outputs": []
    },
    {
      "cell_type": "code",
      "source": [
        "MAX_PREDS = 5\n",
        "# Do not show labels with lower score than this:\n",
        "MIN_SCORE = 0.8 \n",
        "\n",
        "def show_preds(logits, image, correct_flowers_label=None, tf_flowers_logits=False):\n",
        "\n",
        "  if len(logits.shape) > 1:\n",
        "    logits = tf.reshape(logits, [-1])\n",
        "\n",
        "  fig, axes = plt.subplots(1, 2, figsize=(7, 4), squeeze=False)\n",
        "\n",
        "  ax1, ax2 = axes[0]\n",
        "\n",
        "  ax1.axis('off')\n",
        "  ax1.imshow(image)\n",
        "  if correct_flowers_label is not None:\n",
        "    ax1.set_title(tf_flowers_labels[correct_flowers_label])\n",
        "  classes = []\n",
        "  scores = []\n",
        "  logits_max = np.max(logits)\n",
        "  softmax_denominator = np.sum(np.exp(logits - logits_max))\n",
        "  for index, j in enumerate(np.argsort(logits)[-MAX_PREDS::][::-1]):\n",
        "    score = 1.0/(1.0 + np.exp(-logits[j]))\n",
        "    if score < MIN_SCORE: break\n",
        "    if not tf_flowers_logits:\n",
        "      # predicting in imagenet label space\n",
        "      classes.append(imagenet_int_to_str[j])\n",
        "    else:\n",
        "      # predicting in tf_flowers label space\n",
        "      classes.append(tf_flowers_labels[j])\n",
        "    scores.append(np.exp(logits[j] - logits_max)/softmax_denominator*100)\n",
        "\n",
        "  ax2.barh(np.arange(len(scores)) + 0.1, scores)\n",
        "  ax2.set_xlim(0, 100)\n",
        "  ax2.set_yticks(np.arange(len(scores)))\n",
        "  ax2.yaxis.set_ticks_position('right')\n",
        "  ax2.set_yticklabels(classes, rotation=0, fontsize=14)\n",
        "  ax2.invert_xaxis()\n",
        "  ax2.invert_yaxis()\n",
        "  ax2.set_xlabel('Prediction probabilities', fontsize=11)"
      ],
      "metadata": {
        "id": "hVqra__AJEDw"
      },
      "execution_count": null,
      "outputs": []
    },
    {
      "cell_type": "code",
      "source": [
        "train_split = 0.9\n",
        "num_train = int(train_split * num_examples)\n",
        "ds_train = ds.take(num_train)\n",
        "ds_test = ds.skip(num_train)\n",
        "\n",
        "DATASET_NUM_TRAIN_EXAMPLES = num_examples"
      ],
      "metadata": {
        "id": "g3BlkB9aJDrX"
      },
      "execution_count": null,
      "outputs": []
    },
    {
      "cell_type": "code",
      "source": [
        "class MyBiTModel(tf.keras.Model):\n",
        "  \"\"\"BiT with a new head.\"\"\"\n",
        "\n",
        "  def __init__(self, num_classes, module):\n",
        "    super().__init__()\n",
        "\n",
        "    self.num_classes = num_classes\n",
        "    self.head = tf.keras.layers.Dense(num_classes, kernel_initializer='zeros')\n",
        "    self.bit_model = module\n",
        "  \n",
        "  def call(self, images):\n",
        "    # No need to cut head off since we are using feature extractor model\n",
        "    bit_embedding = self.bit_model(images)\n",
        "    return self.head(bit_embedding)\n",
        "\n",
        "model = MyBiTModel(num_classes=NUM_CLASSES, module=module)"
      ],
      "metadata": {
        "id": "l15VBRFJIcXb"
      },
      "execution_count": null,
      "outputs": []
    },
    {
      "cell_type": "code",
      "execution_count": null,
      "metadata": {
        "id": "SfNLNL3xCkFc"
      },
      "outputs": [],
      "source": [
        "loaded_model = hub.load('/content/drive/MyDrive/Big Transfer/my_saved_bit_model')"
      ]
    },
    {
      "cell_type": "code",
      "source": [
        "img_url = \"https://muonhoa.com/storage/app/uploads/public/5fd/cd1/ec7/thumb_129_480_480_0_0_crop.jpg\"\n",
        "image = load_image_from_url(img_url)\n",
        "\n",
        "# Run model on image\n",
        "logits = imagenet_module(image)\n",
        "\n",
        "# Show image and predictions\n",
        "show_preds(logits, image[0])"
      ],
      "metadata": {
        "id": "lDx3Js2fFx-k"
      },
      "execution_count": null,
      "outputs": []
    }
  ]
}